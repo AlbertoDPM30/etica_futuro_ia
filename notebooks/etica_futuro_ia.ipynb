{
 "cells": [
  {
   "cell_type": "markdown",
   "id": "c0df2ecf",
   "metadata": {},
   "source": [
    "# Ética y futuro de la Inteligencia Artificial (IA)"
   ]
  },
  {
   "cell_type": "markdown",
   "id": "87c0883a",
   "metadata": {},
   "source": [
    "## ¿Qué es la Inteligencia Artificial?:\n",
    "\n",
    "La IA es una rama de la informática que busca desarrollar sistemas capaces de realizar tareas que normalmente requieren inteligencia humana. Tales como:\n",
    "\n",
    "- El Aprendizaje (para reconocer patrones en datos)\n",
    "- El Razonamiento (para resolver problemas y tomar decisiones)\n",
    "- La Percepción (para interpretar imagenes, sonidos o texto)\n",
    "- La Interacción (para la fácil comunicación con el usuario)\n",
    "\n",
    "La inteligencia artificial cuenta con algunos enfoque clave como lo es el _Machine Learning (ML)_ que consiste en algoritmos que aprenden de datos sin una programación explícita; a su vez está el _Deep Learning_ , el cual funciona por medio de un subcampo que usa redes neuronales para modelar abstracciones complejas; por ultimó tenemos el _Procesamiento de Lenguaje Natural (NLP)_ que comprende y genera respuestas en lenguaje humano"
   ]
  },
  {
   "cell_type": "markdown",
   "id": "4f721196",
   "metadata": {},
   "source": [
    "El siguiente código es un breve ejemplo de como sé entrena un modelo de _inteligencia articial_ (Entrenamiento y prueba):"
   ]
  },
  {
   "cell_type": "code",
   "execution_count": null,
   "id": "33f389ef",
   "metadata": {},
   "outputs": [
    {
     "name": "stdout",
     "output_type": "stream",
     "text": [
      "Coeficiente (Pendiente): 2.04\n",
      "Intercepto: 0.73\n",
      "Error Cuadrático Medio (MSE): 1.40\n"
     ]
    },
    {
     "data": {
      "image/png": "[encoded data removed]",
      "text/plain": [
       "<Figure size 640x480 with 1 Axes>"
      ]
     },
     "metadata": {},
     "output_type": "display_data"
    }
   ],
   "source": [
    "# Entrenamiento de Modelo en Python: Regresion lineal\n",
    "\n",
    "import numpy as np\n",
    "import matplotlib.pyplot as plt\n",
    "from sklearn.linear_model import LinearRegression\n",
    "from sklearn.model_selection import train_test_split\n",
    "from sklearn.metrics import mean_squared_error\n",
    "\n",
    "# Generaración de datos sintéticos\n",
    "np.random.seed(42)\n",
    "X = np.linspace(0, 5, 100).reshape(-1, 1)\n",
    "y = 2 * X.ravel() + 1 + np.random.randn(100) * 1.5\n",
    "\n",
    "# Se dividen los datos en: entrenamiento (80%) y prueba (20%)\n",
    "X_train, X_test, y_train, y_test = train_test_split(X, y, test_size=0.2, random_state=42)\n",
    "\n",
    "### Creación y entrenamiento del modelo\n",
    "model = LinearRegression()\n",
    "model.fit(X_train, y_train)\n",
    "\n",
    "# Predicción y evaluación\n",
    "y_pred = model.predict(X_test)\n",
    "mse = mean_squared_error(y_test, y_pred)\n",
    "\n",
    "# Resultados\n",
    "print(f\"Coeficiente (Pendiente): {model.coef_[0]:.2f}\")\n",
    "print(f\"Intercepto: {model.intercept_:.2f}\")\n",
    "print(f\"Error Cuadrático Medio (MSE): {mse:.2f}\")\n",
    "\n",
    "# Visualización del resultado de la gráfica\n",
    "plt.scatter(X_test, y_test, color='blue', label='Datos reales')\n",
    "plt.plot(X_test, y_pred, color='red', linewidth=2, label='Predicción')\n",
    "plt.title('Regresión Lineal: Predicción vs Realidad')\n",
    "plt.xlabel('X')\n",
    "plt.ylabel('y')\n",
    "plt.legend()\n",
    "plt.show()"
   ]
  },
  {
   "cell_type": "markdown",
   "id": "f3de9a01",
   "metadata": {},
   "source": [
    "<hr>"
   ]
  },
  {
   "cell_type": "markdown",
   "id": "01151599",
   "metadata": {},
   "source": [
    "## La ética en la Inteligencia Artificial:\n",
    "\n",
    "La ética en IA aborda los desafíos morales que surgen con el desarrollo e implementación de sistemas inteligentes. Cómo pueden ser:\n",
    "\n",
    "1. **Sesgos y discriminación:** un problema común es que los modelos pueden perpetuar sesgos presentes en datos de entrenamiento, como por ejemplo en un _sistemas de contratación_ que discriminan por **género** o **etnia**. Para solucionarlo se aplican auditorías de sesgo, datos diversos, algoritmos de equidad"
   ]
  },
  {
   "cell_type": "markdown",
   "id": "3174be2b",
   "metadata": {},
   "source": [
    "2. **Transparencia y Explicabilidad:** el problema radica en los modelos \"_caja negra_\" que toman decisiones inescrutables que suelen causar negación de créditos sin explicación. Para solucionarlo se aplican técnicas de XAI (Explainable AI)"
   ]
  },
  {
   "cell_type": "markdown",
   "id": "336db4a0",
   "metadata": {},
   "source": [
    "3. **Privacidad y Vigilancia:** este es uno de los temas más polemicos debido a que suelen recolectar masivamente datos personales del usuario sin su consentimiento, como por ejemplo sus datos biométricos. Para evitar que esto ocurra el modelo debe enfocarse en la _privacidad diferencial_ y en la _anonimización estricta_"
   ]
  },
  {
   "cell_type": "markdown",
   "id": "66bbef83",
   "metadata": {},
   "source": [
    "4. **Responsabilidad Legal:** más allá que un problema puntual, este punto tiene un dilema de ¿quién es responsable cuando un sistema autónomo causa daño?, como puede ser el caso de los accidentes con vehículos autónomos. Una solución a ello ha sido implementar marcos regulatorios claros, como por ejemplo la propuesta de Ley IA de la UE"
   ]
  },
  {
   "cell_type": "markdown",
   "id": "fe1aac66",
   "metadata": {},
   "source": [
    "5. **Desplazamiento Laboral:** algo que tiene alterado a gran parte de la población mundial es el pensar que la \"_IA_ nos reemplezará\" en nuestros trabajos y labores, habiendo un mayor impacto en la automatización de trabajos tradicionales. De cierta manera podría evitarse creando _Programas de reciclaje profesional_"
   ]
  },
  {
   "cell_type": "markdown",
   "id": "73f12ce0",
   "metadata": {},
   "source": [
    "6. **Control Autónomo:** un gran peligro para la humanidad es el desarrollo e implementación de sistemas que toman _decisiones letales sin intervención humana_, tales como _Armas autónomas y/o Robots con propositos bélicos_. Así que es sumamente importante siempre mantener \"_humano_ en el circuito\""
   ]
  },
  {
   "cell_type": "markdown",
   "id": "9788b041",
   "metadata": {},
   "source": [
    "<hr>"
   ]
  },
  {
   "cell_type": "markdown",
   "id": "90fb0a21",
   "metadata": {},
   "source": [
    "## El Futuro de la IA:\n",
    "\n",
    "La proyección futura de la inteligencia artificial (IA), basada en los principios éticos actuales, se orienta hacia un desarrollo que equilibre innovación con responsabilidad social, derechos humanos y sostenibilidad.\n",
    "\n",
    "Tendencias clave y los desafíos emergentes:\n",
    "\n",
    "1. **Regulación armonizada y aplicación de leyes globales:**\n",
    "- Marcos regulatorios vinculantes: Tras la aprobación de la Ley de IA de la Unión Europea (2024), que clasifica los sistemas por nivel de riesgo, se proyecta la creación de estándares internacionales similares. Estos prohibirán usos de alto riesgo (ej: vigilancia masiva) e impondrán auditorías obligatorias para IA en salud, justicia o empleo.\n",
    "- Colaboración público-privada: Iniciativas como el Consejo Empresarial para la Ética de la IA (UNESCO) promoverán códigos de conducta sectoriales, especialmente en finanzas y salud.\n",
    "\n",
    "2. **Enfoque en equidad y justicia algorítmica:**\n",
    "_El combate de sesgos estructurales_ que priorizarán técnicas como _auditorías continuas_ de datos y modelos, así como también la _diversidad en equipos de desarrollo_ para evitar discriminación por género, etnia u origen. En un caso práctico estó e aplicaría en reclutamientos laborales donde se exigirá transparencia en los criterios de algoritmos de selección para evitar casos como el de Amazon (2018), donde se discriminó a mujeres.\n",
    "\n",
    "3. **IA explicable y humana en el circuito:**\n",
    "- Seria de _transparencia obligatoría_ donde los sistemas de alto riesgo deberán integrar XAI (Explainable AI), permitiendo a usuarios comprender decisiones, como por ejemplo: las denegaciones de crédito o diagnósticos médicos.\n",
    "- Contaría con una _supervición humana crítica_ donde se mantendrá el principio de \"_humano en el circuito_\" para decisiones que afecten derechos fundamentales, como en justicia penal o en operaciones militares.\n",
    "\n",
    "4. **Sostenibilidad ambiental e inclusión global:**\n",
    "- **IA verde**: Optimización de recursos energéticos mediante algoritmos eficientes, reduciendo la huella de carbono de data centers.\n",
    "- **Reducción de brechas tecnológicas**: Países en desarrollo impulsarán programas como la _hoja de ruta chilena_ para evitar desigualdades en acceso a IA. La UNESCO alerta que, sin esto, el PIB de regiones marginadas podría caer hasta un 12%.\n",
    "\n",
    "5. **Educación y adaptación laboral:**\n",
    "- **Reconversión profesional:** Ante la automatización de tareas (especialmente en manufactura y transporte), se crearán roles emergentes como auditor ético de IA o especialista en ciberseguridad. Según la OIT, esto requerirá inversión masiva en capacitación.\n",
    "- **Alfabetización digital:** Países como Ecuador ya proponen integrar ética de IA en curricula educativas desde primaria."
   ]
  },
  {
   "cell_type": "markdown",
   "id": "a3e03e80",
   "metadata": {},
   "source": [
    "<hr>"
   ]
  },
  {
   "cell_type": "markdown",
   "id": "de578ec9",
   "metadata": {},
   "source": [
    "## En conclusión\n",
    "\n",
    "El desarrollo ético de la IA no es un lujo, sino una necesidad técnica y moral. Requiere de _algoritmos auditables, diversidad en equipos de desarrollo, marcos legales adaptativos y sobre todo, centrarse en el impacto humano_. El futuro no será definido por lo que la IA puede hacer, sino por lo que **debe hacer** según nuestros valores colectivos."
   ]
  }
 ],
 "metadata": {
  "kernelspec": {
   "display_name": "venv",
   "language": "python",
   "name": "python3"
  },
  "language_info": {
   "codemirror_mode": {
    "name": "ipython",
    "version": 3
   },
   "file_extension": ".py",
   "mimetype": "text/x-python",
   "name": "python",
   "nbconvert_exporter": "python",
   "pygments_lexer": "ipython3",
   "version": "3.13.2"
  }
 },
 "nbformat": 4,
 "nbformat_minor": 5
}
